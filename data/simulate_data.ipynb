{
 "cells": [
  {
   "cell_type": "code",
   "id": "initial_id",
   "metadata": {
    "collapsed": true,
    "ExecuteTime": {
     "end_time": "2024-11-03T08:32:26.245552Z",
     "start_time": "2024-11-03T08:32:26.242492Z"
    }
   },
   "source": [
    "import os\n",
    "import scanpy as sc\n",
    "import numpy as np\n",
    "import muon as mu\n",
    "np.random.seed(0)\n",
    "import warnings\n",
    "warnings.filterwarnings('ignore')"
   ],
   "outputs": [],
   "execution_count": 8
  },
  {
   "metadata": {
    "ExecuteTime": {
     "end_time": "2024-11-03T08:32:26.253854Z",
     "start_time": "2024-11-03T08:32:26.247556Z"
    }
   },
   "cell_type": "code",
   "source": [
    "from scipy.stats import median_abs_deviation\n",
    "\n",
    "\n",
    "def is_outlier(adata, metric: str, nmads: int):\n",
    "    M = adata.obs[metric]\n",
    "    outlier = (M < np.median(M) - nmads * median_abs_deviation(M)) | (\n",
    "        np.median(M) + nmads * median_abs_deviation(M) < M\n",
    "    )\n",
    "    return outlier"
   ],
   "id": "f95948f3f87cd7af",
   "outputs": [],
   "execution_count": 9
  },
  {
   "metadata": {
    "ExecuteTime": {
     "end_time": "2024-11-03T08:32:26.258368Z",
     "start_time": "2024-11-03T08:32:26.253854Z"
    }
   },
   "cell_type": "code",
   "source": [
    "def readData():\n",
    "    os.chdir(\"E:/bishe/paper1/data_h5ad/neuips_new\")\n",
    "    rna_file = \"RNA_unpred.h5ad\"\n",
    "    rna = sc.read_h5ad(rna_file)\n",
    "    rna.var_names_make_unique()\n",
    "    dataset = \"neuips\"\n",
    "    atac_file = \"ATAC_unpred.h5ad\"\n",
    "    atac = sc.read_h5ad(atac_file)\n",
    "    atac.var_names_make_unique()\n",
    "    return rna, atac,dataset"
   ],
   "id": "df99debdfef84577",
   "outputs": [],
   "execution_count": 10
  },
  {
   "metadata": {
    "ExecuteTime": {
     "end_time": "2024-11-03T08:32:26.263332Z",
     "start_time": "2024-11-03T08:32:26.258368Z"
    }
   },
   "cell_type": "code",
   "source": "if __name__ == \"__main__\":",
   "id": "dc318d0abd3381ef",
   "outputs": [
    {
     "ename": "SyntaxError",
     "evalue": "incomplete input (1147347012.py, line 1)",
     "output_type": "error",
     "traceback": [
      "\u001B[1;36m  Cell \u001B[1;32mIn[11], line 1\u001B[1;36m\u001B[0m\n\u001B[1;33m    if __name__ == \"__main__\":\u001B[0m\n\u001B[1;37m                              ^\u001B[0m\n\u001B[1;31mSyntaxError\u001B[0m\u001B[1;31m:\u001B[0m incomplete input\n"
     ]
    }
   ],
   "execution_count": 11
  },
  {
   "metadata": {},
   "cell_type": "code",
   "source": [
    "    rna, atac, dataname= readData()\n",
    "    print(dataname)\n",
    "    rna.var_names_make_unique()\n",
    "    atac.var_names_make_unique()\n",
    "    celltype = { \"neuips\": \"cell_type\"}\n",
    "    cell_label = celltype[dataname]"
   ],
   "id": "32bc6ae71d5ae898",
   "outputs": [],
   "execution_count": null
  },
  {
   "metadata": {},
   "cell_type": "code",
   "source": "    rna",
   "id": "14fd6a984ab34245",
   "outputs": [],
   "execution_count": null
  },
  {
   "metadata": {},
   "cell_type": "code",
   "source": [
    "    # mitochondrial genes\n",
    "    rna.var[\"mt\"] = rna.var_names.str.startswith(\"MT-\")\n",
    "    # ribosomal genes\n",
    "    rna.var[\"ribo\"] = rna.var_names.str.startswith((\"RPS\", \"RPL\"))\n",
    "    # hemoglobin genes.\n",
    "    rna.var[\"hb\"] = rna.var_names.str.contains((\"^HB[^(P)]\"))\n",
    "    sc.pp.calculate_qc_metrics(\n",
    "    rna, qc_vars=[\"mt\", \"ribo\", \"hb\"], inplace=True, percent_top=[20], log1p=True)\n",
    "    rna.obs[\"outlier\"] = (\n",
    "    is_outlier(rna, \"log1p_total_counts\", 5)\n",
    "    | is_outlier(rna, \"log1p_n_genes_by_counts\", 5)\n",
    "    | is_outlier(rna, \"pct_counts_in_top_20_genes\", 5))\n",
    "    rna.obs.outlier.value_counts()\n",
    "    rna.obs[\"mt_outlier\"] = is_outlier(rna, \"pct_counts_mt\", 3) | (\n",
    "    rna.obs[\"pct_counts_mt\"] > 8)\n",
    "    rna.obs.mt_outlier.value_counts()\n",
    "    print(f\"Total number of cells: {rna.n_obs}\")\n",
    "    adata = rna[(~rna.obs.outlier) & (~rna.obs.mt_outlier)].copy()\n",
    "\n",
    "    print(f\"Number of cells after filtering of low quality cells: {adata.n_obs}\")\n"
   ],
   "id": "430e28573268937d",
   "outputs": [],
   "execution_count": null
  },
  {
   "metadata": {},
   "cell_type": "code",
   "source": [
    "    atac = atac[adata.obs_names,:]\n",
    "    atac"
   ],
   "id": "887fac1a0185f90e",
   "outputs": [],
   "execution_count": null
  },
  {
   "metadata": {
    "ExecuteTime": {
     "end_time": "2024-11-03T08:32:26.301763Z",
     "start_time": "2024-11-03T08:32:26.281356Z"
    }
   },
   "cell_type": "code",
   "source": [
    "    cell_type_select = [\"CD8+ T\",\"Erythroblast\"]\n",
    "    rna_index = []\n",
    "    for i in range(adata.X.shape[0]):\n",
    "        if adata.obs[cell_label][i] in cell_type_select:\n",
    "            rna_index.append(i)\n",
    "    atac_index = []\n",
    "    for i in range(atac.X.shape[0]):\n",
    "        if atac.obs[cell_label][i] in cell_type_select:\n",
    "            atac_index.append(i)\n",
    "    \n",
    "    select_rna = adata[rna_index,:]\n",
    "    select_atac = atac[atac_index,:]\n",
    "            "
   ],
   "id": "9244b53184cec705",
   "outputs": [
    {
     "ename": "NameError",
     "evalue": "name 'adata' is not defined",
     "output_type": "error",
     "traceback": [
      "\u001B[1;31m---------------------------------------------------------------------------\u001B[0m",
      "\u001B[1;31mNameError\u001B[0m                                 Traceback (most recent call last)",
      "Cell \u001B[1;32mIn[12], line 3\u001B[0m\n\u001B[0;32m      1\u001B[0m cell_type_select \u001B[38;5;241m=\u001B[39m [\u001B[38;5;124m\"\u001B[39m\u001B[38;5;124mCD8+ T\u001B[39m\u001B[38;5;124m\"\u001B[39m,\u001B[38;5;124m\"\u001B[39m\u001B[38;5;124mErythroblast\u001B[39m\u001B[38;5;124m\"\u001B[39m]\n\u001B[0;32m      2\u001B[0m rna_index \u001B[38;5;241m=\u001B[39m []\n\u001B[1;32m----> 3\u001B[0m \u001B[38;5;28;01mfor\u001B[39;00m i \u001B[38;5;129;01min\u001B[39;00m \u001B[38;5;28mrange\u001B[39m(adata\u001B[38;5;241m.\u001B[39mX\u001B[38;5;241m.\u001B[39mshape[\u001B[38;5;241m0\u001B[39m]):\n\u001B[0;32m      4\u001B[0m     \u001B[38;5;28;01mif\u001B[39;00m adata\u001B[38;5;241m.\u001B[39mobs[cell_label][i] \u001B[38;5;129;01min\u001B[39;00m cell_type_select:\n\u001B[0;32m      5\u001B[0m         rna_index\u001B[38;5;241m.\u001B[39mappend(i)\n",
      "\u001B[1;31mNameError\u001B[0m: name 'adata' is not defined"
     ]
    }
   ],
   "execution_count": 12
  },
  {
   "metadata": {},
   "cell_type": "code",
   "source": "    select_rna",
   "id": "5b225e232fde9c59",
   "outputs": [],
   "execution_count": null
  },
  {
   "metadata": {},
   "cell_type": "code",
   "source": [
    "    num_cd8 = 490\n",
    "    num_erythroblast = 10\n",
    "\n",
    "    # cell_type_select = [\"CD4+ T naive\" ,\"CD4+ T activated\",\"CD8+ T\",\"Erythroblast\",\"Proerythroblast\"]\n",
    "    target_cd8 = select_rna[select_rna.obs[cell_label] == \"CD8+ T\"].copy()\n",
    "    target_cd8 = target_cd8[np.random.permutation(len(target_cd8))[:num_cd8]]\n",
    "    \n",
    "    target_ery = select_rna[select_rna.obs[cell_label] == \"Erythroblast\"].copy()\n",
    "    target_ery = target_ery[np.random.permutation(len(target_ery))[:num_erythroblast]]\n",
    "    "
   ],
   "id": "b7d0a7df02058f8a",
   "outputs": [],
   "execution_count": null
  },
  {
   "metadata": {},
   "cell_type": "code",
   "source": [
    "    rna_final = ad.concat([target_cd8,target_ery],axis=0)\n",
    "    rna_final"
   ],
   "id": "ea2266bcf5ba8355",
   "outputs": [],
   "execution_count": null
  },
  {
   "metadata": {},
   "cell_type": "code",
   "source": "    cell_type_counts = rna_final.obs[cell_label].value_counts()",
   "id": "9121cf3f2ada1c88",
   "outputs": [],
   "execution_count": null
  },
  {
   "metadata": {},
   "cell_type": "code",
   "source": [
    "    atac_final = atac[rna_final.obs_names,:]\n",
    "    atac_final"
   ],
   "id": "8e84800df12026d0",
   "outputs": [],
   "execution_count": null
  },
  {
   "metadata": {},
   "cell_type": "code",
   "source": [
    "    mdata = mu.MuData({\"rna\":rna_final,\"atac\":atac_final})\n",
    "    mu.write(\"mdata_rep.h5mu\",mdata)"
   ],
   "id": "1d7576f6a0ab0a1f",
   "outputs": [],
   "execution_count": null
  }
 ],
 "metadata": {
  "kernelspec": {
   "display_name": "Python 3",
   "language": "python",
   "name": "python3"
  },
  "language_info": {
   "codemirror_mode": {
    "name": "ipython",
    "version": 2
   },
   "file_extension": ".py",
   "mimetype": "text/x-python",
   "name": "python",
   "nbconvert_exporter": "python",
   "pygments_lexer": "ipython2",
   "version": "2.7.6"
  }
 },
 "nbformat": 4,
 "nbformat_minor": 5
}
